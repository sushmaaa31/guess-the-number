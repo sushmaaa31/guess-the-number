{
 "cells": [
  {
   "cell_type": "code",
   "execution_count": 1,
   "id": "d252dc3e",
   "metadata": {},
   "outputs": [
    {
     "name": "stdout",
     "output_type": "stream",
     "text": [
      "6\n",
      "7\n"
     ]
    }
   ],
   "source": [
    "#1\n",
    "a=int(input())\n",
    "b=int(input())\n",
    "temp=a\n",
    "a=b\n",
    "b=temp\n",
    "print(a)\n",
    "print(b)"
   ]
  },
  {
   "cell_type": "code",
   "execution_count": null,
   "id": "061352d5",
   "metadata": {},
   "outputs": [],
   "source": [
    "#2\n"
   ]
  },
  {
   "cell_type": "code",
   "execution_count": 2,
   "id": "7e86965d",
   "metadata": {},
   "outputs": [
    {
     "name": "stdout",
     "output_type": "stream",
     "text": [
      "odd\n"
     ]
    }
   ],
   "source": [
    "#3\n",
    "a=int(input())\n",
    "if a%2==0:\n",
    "    print(\"Even\")\n",
    "else:\n",
    "    print(\"odd\")"
   ]
  },
  {
   "cell_type": "code",
   "execution_count": 3,
   "id": "e0597e8c",
   "metadata": {},
   "outputs": [
    {
     "name": "stdout",
     "output_type": "stream",
     "text": [
      "3136\n"
     ]
    }
   ],
   "source": [
    "#4\n",
    "s=int(input())\n",
    "print(s**2)\n"
   ]
  },
  {
   "cell_type": "code",
   "execution_count": 4,
   "id": "6bbee51e",
   "metadata": {},
   "outputs": [
    {
     "name": "stdout",
     "output_type": "stream",
     "text": [
      "ABC123\n"
     ]
    }
   ],
   "source": [
    "#5\n",
    "s1=\"ABC\"\n",
    "s2=\"123\"\n",
    "print(s1+s2)"
   ]
  },
  {
   "cell_type": "code",
   "execution_count": 6,
   "id": "82385f79",
   "metadata": {},
   "outputs": [
    {
     "name": "stdout",
     "output_type": "stream",
     "text": [
      "<class 'list'>\n"
     ]
    }
   ],
   "source": [
    "#6\n",
    "q=[2,9,\"er\"]\n",
    "print(type(q))"
   ]
  },
  {
   "cell_type": "code",
   "execution_count": 7,
   "id": "e81182cd",
   "metadata": {},
   "outputs": [
    {
     "name": "stdout",
     "output_type": "stream",
     "text": [
      "<class 'int'>\n"
     ]
    }
   ],
   "source": [
    "#7\n",
    "w=3\n",
    "print(type(w))"
   ]
  },
  {
   "cell_type": "code",
   "execution_count": 8,
   "id": "115dbb8f",
   "metadata": {},
   "outputs": [
    {
     "name": "stdout",
     "output_type": "stream",
     "text": [
      "1\n",
      "2\n"
     ]
    }
   ],
   "source": [
    "#8\n",
    "a=int(input())\n",
    "b=int(input())\n",
    "print(a//b)\n",
    "print(a%b)"
   ]
  },
  {
   "cell_type": "code",
   "execution_count": 9,
   "id": "e70efcb1",
   "metadata": {},
   "outputs": [
    {
     "name": "stdout",
     "output_type": "stream",
     "text": [
      "<class 'int'>\n"
     ]
    }
   ],
   "source": [
    "#9\n",
    "s=2.345\n",
    "s=int(s)\n",
    "print(type(s))"
   ]
  },
  {
   "cell_type": "code",
   "execution_count": 11,
   "id": "d96c722d",
   "metadata": {},
   "outputs": [
    {
     "name": "stdout",
     "output_type": "stream",
     "text": [
      "True\n",
      "True\n"
     ]
    }
   ],
   "source": [
    "#10\n",
    "s=\"123\"\n",
    "d=\"123\"\n",
    "c=s\n",
    "print(s is d)\n",
    "print(d is c)"
   ]
  },
  {
   "cell_type": "code",
   "execution_count": null,
   "id": "d6dbec24",
   "metadata": {},
   "outputs": [],
   "source": [
    "#11"
   ]
  },
  {
   "cell_type": "code",
   "execution_count": null,
   "id": "988f6a56",
   "metadata": {},
   "outputs": [
    {
     "name": "stdout",
     "output_type": "stream",
     "text": [
      "24\n"
     ]
    }
   ],
   "source": [
    "#12\n",
    "l1=[1,2,3,4]\n",
    "pro=1\n",
    "for n in l1:\n",
    "    pro*=n\n",
    "print(pro)\n"
   ]
  },
  {
   "cell_type": "code",
   "execution_count": null,
   "id": "bdeee74c",
   "metadata": {},
   "outputs": [
    {
     "name": "stdout",
     "output_type": "stream",
     "text": [
      "True\n"
     ]
    }
   ],
   "source": [
    "#13\n",
    "s1=\"attendance\"\n",
    "s2=\"dance\"\n",
    "print(s2 in s1)\n"
   ]
  },
  {
   "cell_type": "code",
   "execution_count": 1,
   "id": "9604701f",
   "metadata": {},
   "outputs": [
    {
     "name": "stdout",
     "output_type": "stream",
     "text": [
      "{1: 'q', 2: 'w', 3: 'e', 4: 'r'}\n"
     ]
    }
   ],
   "source": [
    "#14\n",
    "l1=[1,2,3,4]\n",
    "l2=[\"q\",\"w\",\"e\",\"r\"]\n",
    "d=dict(zip(l1,l2))\n",
    "print(d)"
   ]
  },
  {
   "cell_type": "code",
   "execution_count": 3,
   "id": "2c2acf31",
   "metadata": {},
   "outputs": [
    {
     "name": "stdout",
     "output_type": "stream",
     "text": [
      "2.345670\n"
     ]
    }
   ],
   "source": [
    "#15\n",
    "q=2.34567\n",
    "print(f\"{q:2f}\")\n"
   ]
  },
  {
   "cell_type": "code",
   "execution_count": 4,
   "id": "c89a2af4",
   "metadata": {},
   "outputs": [
    {
     "name": "stdout",
     "output_type": "stream",
     "text": [
      "neg\n"
     ]
    }
   ],
   "source": [
    "#16\n",
    "w=int(input())\n",
    "if w>0:\n",
    "    print(\"pos\")\n",
    "if w==0:\n",
    "    print(\"Zero\")\n",
    "else:\n",
    "    print(\"neg\")"
   ]
  },
  {
   "cell_type": "code",
   "execution_count": null,
   "id": "73a2fab8",
   "metadata": {},
   "outputs": [],
   "source": [
    "#17\n"
   ]
  },
  {
   "cell_type": "code",
   "execution_count": 7,
   "id": "a1cb2a6c",
   "metadata": {},
   "outputs": [
    {
     "name": "stdout",
     "output_type": "stream",
     "text": [
      "6.111111111111111\n"
     ]
    }
   ],
   "source": [
    "#18\n",
    "l=[2,3,4,5,6,7,8,9,11]\n",
    "average=sum(l)/len(l)\n",
    "print(average)"
   ]
  },
  {
   "cell_type": "code",
   "execution_count": 9,
   "id": "b87b6d6d",
   "metadata": {},
   "outputs": [
    {
     "name": "stdout",
     "output_type": "stream",
     "text": [
      "<class 'NoneType'>\n"
     ]
    }
   ],
   "source": [
    "#19\n",
    "a=None\n",
    "print(type(a))"
   ]
  },
  {
   "cell_type": "code",
   "execution_count": 11,
   "id": "8d2079c9",
   "metadata": {},
   "outputs": [
    {
     "name": "stdout",
     "output_type": "stream",
     "text": [
      "{2, 3, 4, 7, 8, 9}\n"
     ]
    }
   ],
   "source": [
    "#20\n",
    "s1={2,3,4}\n",
    "s2={9,8,7}\n",
    "print(s1|s2)"
   ]
  },
  {
   "cell_type": "code",
   "execution_count": 13,
   "id": "fcdf5e57",
   "metadata": {},
   "outputs": [
    {
     "name": "stdout",
     "output_type": "stream",
     "text": [
      "31\n"
     ]
    }
   ],
   "source": [
    "#21\n",
    "z=21\n",
    "z+=10\n",
    "print(z)"
   ]
  },
  {
   "cell_type": "code",
   "execution_count": 18,
   "id": "c649cc8c",
   "metadata": {},
   "outputs": [],
   "source": [
    "#22\n",
    "n=int(input())\n",
    "if n%3==0 & n%5==0:\n",
    "    print(\"multiple of 3 & 5\")"
   ]
  },
  {
   "cell_type": "code",
   "execution_count": 20,
   "id": "3a26f2fe",
   "metadata": {},
   "outputs": [
    {
     "name": "stdout",
     "output_type": "stream",
     "text": [
      "<class 'str'>\n"
     ]
    }
   ],
   "source": [
    "#23\n",
    "e=23\n",
    "print(type(str(e)))"
   ]
  },
  {
   "cell_type": "code",
   "execution_count": 21,
   "id": "ef505014",
   "metadata": {},
   "outputs": [
    {
     "name": "stdout",
     "output_type": "stream",
     "text": [
      "6\n"
     ]
    }
   ],
   "source": [
    "#24\n",
    "s=\"234567\"\n",
    "print(len(s))"
   ]
  },
  {
   "cell_type": "code",
   "execution_count": 22,
   "id": "ef6fe98f",
   "metadata": {},
   "outputs": [],
   "source": [
    "#25\n",
    "l=[\"wer\",\"uio\",\"hjk\"]\n",
    "if len(l)==0:\n",
    "    print(\"empty\")\n",
    "else:\n",
    "    pass\n"
   ]
  },
  {
   "cell_type": "code",
   "execution_count": null,
   "id": "15fcece6",
   "metadata": {},
   "outputs": [
    {
     "ename": "SyntaxError",
     "evalue": "invalid syntax (76235129.py, line 4)",
     "output_type": "error",
     "traceback": [
      "  \u001b[36mCell\u001b[39m\u001b[36m \u001b[39m\u001b[32mIn[24]\u001b[39m\u001b[32m, line 4\u001b[39m\n\u001b[31m    \u001b[39m\u001b[31mexcept:\u001b[39m\n    ^\n\u001b[31mSyntaxError\u001b[39m\u001b[31m:\u001b[39m invalid syntax\n"
     ]
    }
   ],
   "source": [
    "#26\n"
   ]
  },
  {
   "cell_type": "code",
   "execution_count": 25,
   "id": "efff69fb",
   "metadata": {},
   "outputs": [
    {
     "name": "stdout",
     "output_type": "stream",
     "text": [
      "('wer', 'uio', 'hjk')\n"
     ]
    }
   ],
   "source": [
    "#27\n",
    "t=tuple(l)\n",
    "print(t)\n",
    "\n"
   ]
  },
  {
   "cell_type": "code",
   "execution_count": 28,
   "id": "b37e8b0c",
   "metadata": {},
   "outputs": [
    {
     "name": "stdout",
     "output_type": "stream",
     "text": [
      "{2: 4, 3: 6, 4: 8}\n",
      "True\n"
     ]
    }
   ],
   "source": [
    "#28\n",
    "k=[2,3,4]\n",
    "v=[4,6,8]\n",
    "d=dict(zip(k,v))\n",
    "print(d)\n",
    "print(3 in k)"
   ]
  },
  {
   "cell_type": "code",
   "execution_count": 1,
   "id": "a22f9a45",
   "metadata": {},
   "outputs": [
    {
     "name": "stdout",
     "output_type": "stream",
     "text": [
      "512\n"
     ]
    }
   ],
   "source": [
    "#29\n",
    "n=int(input())\n",
    "pow=int(input())\n",
    "print(n**pow)"
   ]
  },
  {
   "cell_type": "code",
   "execution_count": 2,
   "id": "78912ee9",
   "metadata": {},
   "outputs": [
    {
     "name": "stdout",
     "output_type": "stream",
     "text": [
      "False\n"
     ]
    }
   ],
   "source": [
    "#30\n",
    "s1=\"QWE\"\n",
    "s2=\"qwe\"\n",
    "print(s1 == s2)"
   ]
  },
  {
   "cell_type": "code",
   "execution_count": 12,
   "id": "d5e459ff",
   "metadata": {},
   "outputs": [
    {
     "name": "stdout",
     "output_type": "stream",
     "text": [
      "1\n",
      "2\n",
      "3\n",
      "4\n",
      "5\n",
      "6\n",
      "7\n",
      "8\n",
      "9\n",
      "10\n"
     ]
    }
   ],
   "source": [
    "#Control Flow\n",
    "#1\n",
    "for i in range(10):\n",
    "    i+=1\n",
    "    print(i)"
   ]
  },
  {
   "cell_type": "code",
   "execution_count": 14,
   "id": "79f08139",
   "metadata": {},
   "outputs": [
    {
     "name": "stdout",
     "output_type": "stream",
     "text": [
      "neg\n"
     ]
    }
   ],
   "source": [
    "#2\n",
    "n=int(input())\n",
    "if n>0:\n",
    "    print(\"pos\")\n",
    "if n==0:\n",
    "    print(\"Zero\")\n",
    "else:\n",
    "    print(\"neg\")"
   ]
  },
  {
   "cell_type": "code",
   "execution_count": 110,
   "id": "cef29182",
   "metadata": {},
   "outputs": [
    {
     "name": "stdout",
     "output_type": "stream",
     "text": [
      "100\n"
     ]
    }
   ],
   "source": [
    "#3\n",
    "s=0\n",
    "for i in range(1,21,2):\n",
    "    s+=i\n",
    "print(s)"
   ]
  },
  {
   "cell_type": "code",
   "execution_count": null,
   "id": "20033644",
   "metadata": {},
   "outputs": [],
   "source": [
    "#4\n",
    "\n"
   ]
  },
  {
   "cell_type": "code",
   "execution_count": null,
   "id": "c4dbaf46",
   "metadata": {},
   "outputs": [
    {
     "name": "stdout",
     "output_type": "stream",
     "text": [
      "palindrome\n"
     ]
    }
   ],
   "source": [
    "#5\n",
    "c=\"stsusts\"\n",
    "if c==c[::-1]:\n",
    "    print(\"palindrome\")"
   ]
  },
  {
   "cell_type": "code",
   "execution_count": 20,
   "id": "98f128a6",
   "metadata": {},
   "outputs": [
    {
     "name": "stdout",
     "output_type": "stream",
     "text": [
      "7\n",
      "14\n",
      "21\n",
      "28\n",
      "35\n",
      "42\n",
      "49\n",
      "56\n",
      "63\n",
      "70\n",
      "77\n",
      "84\n",
      "91\n",
      "98\n"
     ]
    }
   ],
   "source": [
    "#6\n",
    "for i in range(7,100,7):\n",
    "    print(i)"
   ]
  },
  {
   "cell_type": "code",
   "execution_count": 28,
   "id": "03fd5459",
   "metadata": {},
   "outputs": [
    {
     "name": "stdout",
     "output_type": "stream",
     "text": [
      "['e', 'u', 'i', 'o', 'a']\n"
     ]
    }
   ],
   "source": [
    "#7\n",
    "l=[]\n",
    "s=\"qwertyuioasdfghj\"\n",
    "for i in s:\n",
    "    if i in \"aeiou\":\n",
    "        l.append(i)\n",
    "print(l)"
   ]
  },
  {
   "cell_type": "code",
   "execution_count": null,
   "id": "c759461b",
   "metadata": {},
   "outputs": [
    {
     "name": "stdout",
     "output_type": "stream",
     "text": [
      "1\n",
      "2\n",
      "3\n",
      "4\n",
      "5\n",
      "6\n",
      "7\n",
      "8\n",
      "9\n",
      "10\n"
     ]
    }
   ],
   "source": [
    "#8\n",
    "i=0\n",
    "while True:\n",
    "    i+=1\n",
    "    print(i)\n",
    "    if i==10:\n",
    "        break"
   ]
  },
  {
   "cell_type": "code",
   "execution_count": 31,
   "id": "6cfc295f",
   "metadata": {},
   "outputs": [
    {
     "name": "stdout",
     "output_type": "stream",
     "text": [
      "0\n",
      "2\n",
      "4\n",
      "6\n",
      "8\n"
     ]
    }
   ],
   "source": [
    "#9\n",
    "for i in range(0,10,2):\n",
    "    print(i)"
   ]
  },
  {
   "cell_type": "code",
   "execution_count": 33,
   "id": "3cb3f5a6",
   "metadata": {},
   "outputs": [
    {
     "name": "stdout",
     "output_type": "stream",
     "text": [
      "6*1=6\n",
      "6*2=12\n",
      "6*3=18\n",
      "6*4=24\n",
      "6*5=30\n",
      "6*6=36\n",
      "6*7=42\n",
      "6*8=48\n",
      "6*9=54\n",
      "6*10=60\n"
     ]
    }
   ],
   "source": [
    "#10\n",
    "n=int(input())\n",
    "for i in range(1,11):\n",
    "    print(f\"{n}*{i}={n*i}\")"
   ]
  },
  {
   "cell_type": "code",
   "execution_count": 35,
   "id": "5f424c2c",
   "metadata": {},
   "outputs": [
    {
     "name": "stdout",
     "output_type": "stream",
     "text": [
      "86\n"
     ]
    }
   ],
   "source": [
    "#11\n",
    "l=[12,34,12,35,67,86,23]\n",
    "print(max(l))"
   ]
  },
  {
   "cell_type": "code",
   "execution_count": 43,
   "id": "90fd9c8d",
   "metadata": {},
   "outputs": [
    {
     "name": "stdout",
     "output_type": "stream",
     "text": [
      "LEaap year\n"
     ]
    }
   ],
   "source": [
    "#12\n",
    "yr=int(input())\n",
    "if (yr%4==0 or yr%100==0 ) or yr%400==0:\n",
    "    print(\"LEaap year\")\n",
    "else:\n",
    "    print(\"not\")"
   ]
  },
  {
   "cell_type": "code",
   "execution_count": null,
   "id": "e61c7dba",
   "metadata": {},
   "outputs": [
    {
     "name": "stdout",
     "output_type": "stream",
     "text": [
      "oiuytr\n"
     ]
    }
   ],
   "source": [
    "#13\n",
    "s=\"rtyuio\"\n",
    "for i in s:\n",
    "    s=s[::-1]\n",
    "    print(s)    \n",
    "    break"
   ]
  },
  {
   "cell_type": "code",
   "execution_count": 61,
   "id": "f1a88dec",
   "metadata": {},
   "outputs": [
    {
     "name": "stdout",
     "output_type": "stream",
     "text": [
      "True\n",
      "[2, 3, 5, 7, 11, 13, 17, 19, 23]\n"
     ]
    }
   ],
   "source": [
    "#14\n",
    "#primes=[]\n",
    "def isprime(n):\n",
    "    if n<2:\n",
    "        return False\n",
    "    for i in range(2,int(n**0.5)+1):\n",
    "        if n%i==0:\n",
    "            return False\n",
    "    return True\n",
    "def primesn(lim):\n",
    "    primes=[]\n",
    "    for j in range(2,lim+1):\n",
    "        if  isprime(j):\n",
    "            primes.append(j)\n",
    "    return primes\n",
    "    \n",
    "\n",
    "n=23\n",
    "print(isprime(n))\n",
    "print(primesn(n))\n",
    "\n",
    "        "
   ]
  },
  {
   "cell_type": "code",
   "execution_count": 67,
   "id": "7aaf3eec",
   "metadata": {},
   "outputs": [
    {
     "name": "stdout",
     "output_type": "stream",
     "text": [
      "120\n"
     ]
    }
   ],
   "source": [
    "#15\n",
    "def fact(n):\n",
    "    fact=1\n",
    "    for i in range(1,n+1):\n",
    "        fact*=i\n",
    "    return fact\n",
    "n=int(input())\n",
    "print(fact(n))"
   ]
  },
  {
   "cell_type": "code",
   "execution_count": 69,
   "id": "28e044cf",
   "metadata": {},
   "outputs": [
    {
     "name": "stdout",
     "output_type": "stream",
     "text": [
      "True\n",
      "False\n"
     ]
    }
   ],
   "source": [
    "#16\n",
    "l=[34,98,56,56,9,67,23]\n",
    "print(34 in l)\n",
    "print(7 in l)"
   ]
  },
  {
   "cell_type": "code",
   "execution_count": null,
   "id": "46138f00",
   "metadata": {},
   "outputs": [],
   "source": [
    "#17\n"
   ]
  },
  {
   "cell_type": "code",
   "execution_count": 144,
   "id": "dd2ca87a",
   "metadata": {},
   "outputs": [
    {
     "name": "stdout",
     "output_type": "stream",
     "text": [
      "23\n",
      "112\n",
      "112\n",
      "124\n"
     ]
    }
   ],
   "source": [
    "#18\n",
    "l=[23,89,0,12,-87,-45,-56]\n",
    "sum=0\n",
    "for i in l:\n",
    "    sum+=i\n",
    "    if i<0:\n",
    "        break\n",
    "    print(sum)"
   ]
  },
  {
   "cell_type": "code",
   "execution_count": 155,
   "id": "9dd93565",
   "metadata": {},
   "outputs": [
    {
     "name": "stdout",
     "output_type": "stream",
     "text": [
      "23 is pos\n",
      "89 is pos\n",
      "12 is pos\n",
      "-87 is not pos\n",
      "-45 is not pos\n",
      "-56 is not pos\n"
     ]
    }
   ],
   "source": [
    "#19\n",
    "l=[23,89,12,-87,-45,-56]\n",
    "for i in l:\n",
    "    if i<0:\n",
    "        print(f\"{i} is not pos\")\n",
    "    else:\n",
    "        print(f\"{i} is pos\")\n",
    "\n",
    "\n"
   ]
  },
  {
   "cell_type": "code",
   "execution_count": 76,
   "id": "830b7832",
   "metadata": {},
   "outputs": [
    {
     "name": "stdout",
     "output_type": "stream",
     "text": [
      "15\n"
     ]
    }
   ],
   "source": [
    "#20\n",
    "n=int(input())\n",
    "s=str(n)\n",
    "sum=0\n",
    "for i in s:\n",
    "    #sum=0\n",
    "    sum+=int(i)\n",
    "print(sum)\n"
   ]
  },
  {
   "cell_type": "code",
   "execution_count": 78,
   "id": "b0bda5ea",
   "metadata": {},
   "outputs": [
    {
     "name": "stdout",
     "output_type": "stream",
     "text": [
      "[56, 45, 34, 23, 12]\n"
     ]
    }
   ],
   "source": [
    "#21\n",
    "l=[12,23,34,45,56]\n",
    "print(l[::-1])"
   ]
  },
  {
   "cell_type": "code",
   "execution_count": 79,
   "id": "3243cc4f",
   "metadata": {},
   "outputs": [
    {
     "ename": "NameError",
     "evalue": "name 'sort' is not defined",
     "output_type": "error",
     "traceback": [
      "\u001b[31m---------------------------------------------------------------------------\u001b[39m",
      "\u001b[31mNameError\u001b[39m                                 Traceback (most recent call last)",
      "\u001b[36mCell\u001b[39m\u001b[36m \u001b[39m\u001b[32mIn[79]\u001b[39m\u001b[32m, line 2\u001b[39m\n\u001b[32m      1\u001b[39m \u001b[38;5;66;03m#22\u001b[39;00m\n\u001b[32m----> \u001b[39m\u001b[32m2\u001b[39m \u001b[38;5;28mprint\u001b[39m(l \u001b[38;5;129;01mis\u001b[39;00m \u001b[43msort\u001b[49m())\n",
      "\u001b[31mNameError\u001b[39m: name 'sort' is not defined"
     ]
    }
   ],
   "source": [
    "#22\n",
    "print(l is sort())"
   ]
  },
  {
   "cell_type": "code",
   "execution_count": 81,
   "id": "d89c0c7a",
   "metadata": {},
   "outputs": [
    {
     "name": "stdout",
     "output_type": "stream",
     "text": [
      "3\n",
      "1\n"
     ]
    }
   ],
   "source": [
    "#23\n",
    "l=[12,23,34,12,34,1,256,34,55,12,56]\n",
    "print(l.count(12))\n",
    "print(l.count(1))"
   ]
  },
  {
   "cell_type": "code",
   "execution_count": 85,
   "id": "24702e84",
   "metadata": {},
   "outputs": [
    {
     "name": "stdout",
     "output_type": "stream",
     "text": [
      "2\n",
      "4\n",
      "6\n",
      "8\n",
      "10\n"
     ]
    }
   ],
   "source": [
    "#24\n",
    "i=0\n",
    "while True:\n",
    "    i+=2\n",
    "    print(i)\n",
    "    if i==10:\n",
    "        break\n",
    "    "
   ]
  },
  {
   "cell_type": "code",
   "execution_count": null,
   "id": "e53bf303",
   "metadata": {},
   "outputs": [
    {
     "name": "stdout",
     "output_type": "stream",
     "text": [
      "first neg num is 23\n"
     ]
    }
   ],
   "source": [
    "#25\n",
    "l=[23,89,0,12,-87,-45,-56]\n",
    "for i in l:\n",
    "    if i>0:\n",
    "        print(f\"first neg num is {i}\")\n",
    "        break\n",
    "\n"
   ]
  },
  {
   "cell_type": "code",
   "execution_count": 90,
   "id": "14dc84b7",
   "metadata": {},
   "outputs": [
    {
     "name": "stdout",
     "output_type": "stream",
     "text": [
      "1\n",
      "4\n",
      "9\n",
      "16\n",
      "25\n"
     ]
    }
   ],
   "source": [
    "#26\n",
    "for i in range(1,6):\n",
    "    print(i**2)"
   ]
  },
  {
   "cell_type": "code",
   "execution_count": 92,
   "id": "dff23be9",
   "metadata": {},
   "outputs": [
    {
     "name": "stdout",
     "output_type": "stream",
     "text": [
      "False\n"
     ]
    }
   ],
   "source": [
    "#27\n",
    "str=\"345fgjk79\"\n",
    "print(str.isdigit())"
   ]
  },
  {
   "cell_type": "code",
   "execution_count": 93,
   "id": "bbc882de",
   "metadata": {},
   "outputs": [
    {
     "name": "stdout",
     "output_type": "stream",
     "text": [
      "[23, 0, -87, -56]\n"
     ]
    }
   ],
   "source": [
    "#28\n",
    "l=[23,89,0,12,-87,-45,-56]\n",
    "print(l[::2])"
   ]
  },
  {
   "cell_type": "code",
   "execution_count": null,
   "id": "9dadf6c3",
   "metadata": {},
   "outputs": [],
   "source": [
    "#29\n"
   ]
  },
  {
   "cell_type": "code",
   "execution_count": 102,
   "id": "7dccf29e",
   "metadata": {},
   "outputs": [
    {
     "name": "stdout",
     "output_type": "stream",
     "text": [
      "625 perfect sq 0f 25.0\n"
     ]
    }
   ],
   "source": [
    "#30\n",
    "n=int(input())\n",
    "if n==int(n**0.5)**2:\n",
    "    print(f\"{n} perfect sq 0f {n**0.5}\")\n",
    "    #print(n**0.5)\n",
    "else:\n",
    "    print(\"not  perfect sq\")"
   ]
  },
  {
   "cell_type": "code",
   "execution_count": 1,
   "id": "82e76447",
   "metadata": {},
   "outputs": [
    {
     "name": "stdout",
     "output_type": "stream",
     "text": [
      "Good morning/afternoon,\n",
      "I’m Sushma from Karimnagar.\n",
      "I’m currently in my final year of B.Tech in Computer Science and Engineering with a specialization in Artificial Intelligence and Machine Learning,\n",
      "and I’m also pursuing a dual degree in Data Science.\n",
      "\n",
      "I have a solid foundation in Python, SQL, and core machine learning concepts.\n",
      "Over the last year, I’ve applied these skills to build meaningful, real-time projects.\n",
      "For example, I developed a customer churn prediction model using logistic regression and decision trees,\n",
      "which helped identify at-risk customers based on usage data.\n",
      "This project taught me the importance of data preprocessing and feature engineering in driving model accuracy.\n",
      "I also built a movie recommendation system using collaborative filtering techniques,\n",
      "integrating real-world datasets and deploying the solution through a simple web interface using Streamlit.\n",
      "\n",
      "What sets me apart is my disciplined and self-motivated nature.\n",
      "I strongly believe in balancing consistent hard work with strategic thinking.\n",
      "I enjoy taking on new challenges and turning problems into opportunities through structured analysis and smart solutions.\n",
      "\n",
      "I’m continuously improving not just my technical skills, but also my communication and collaboration abilities,\n",
      "as I believe both are essential for creating real impact in a team.\n",
      "\n",
      "I’m truly excited about the opportunity to bring my energy, hands-on project experience, and analytical mindset\n",
      "to your organization, and contribute meaningfully to your goals.\n",
      "\n",
      "Thank you for giving me this opportunity to introduce myself!\n"
     ]
    }
   ],
   "source": [
    "print(\"Good morning/afternoon,\")\n",
    "print(\"I’m Sushma from Karimnagar.\")\n",
    "print(\"I’m currently in my final year of B.Tech in Computer Science and Engineering with a specialization in Artificial Intelligence and Machine Learning,\")\n",
    "print(\"and I’m also pursuing a dual degree in Data Science.\\n\")\n",
    "\n",
    "print(\"I have a solid foundation in Python, SQL, and core machine learning concepts.\")\n",
    "print(\"Over the last year, I’ve applied these skills to build meaningful, real-time projects.\")\n",
    "print(\"For example, I developed a customer churn prediction model using logistic regression and decision trees,\")\n",
    "print(\"which helped identify at-risk customers based on usage data.\")\n",
    "print(\"This project taught me the importance of data preprocessing and feature engineering in driving model accuracy.\")\n",
    "print(\"I also built a movie recommendation system using collaborative filtering techniques,\")\n",
    "print(\"integrating real-world datasets and deploying the solution through a simple web interface using Streamlit.\\n\")\n",
    "\n",
    "print(\"What sets me apart is my disciplined and self-motivated nature.\")\n",
    "print(\"I strongly believe in balancing consistent hard work with strategic thinking.\")\n",
    "print(\"I enjoy taking on new challenges and turning problems into opportunities through structured analysis and smart solutions.\\n\")\n",
    "\n",
    "print(\"I’m continuously improving not just my technical skills, but also my communication and collaboration abilities,\")\n",
    "print(\"as I believe both are essential for creating real impact in a team.\\n\")\n",
    "\n",
    "print(\"I’m truly excited about the opportunity to bring my energy, hands-on project experience, and analytical mindset\")\n",
    "print(\"to your organization, and contribute meaningfully to your goals.\\n\")\n",
    "\n",
    "print(\"Thank you for giving me this opportunity to introduce myself!\")"
   ]
  },
  {
   "cell_type": "code",
   "execution_count": 4,
   "id": "307cad2e",
   "metadata": {},
   "outputs": [
    {
     "ename": "SyntaxError",
     "evalue": "invalid syntax (534020556.py, line 1)",
     "output_type": "error",
     "traceback": [
      "  \u001b[36mCell\u001b[39m\u001b[36m \u001b[39m\u001b[32mIn[4]\u001b[39m\u001b[32m, line 1\u001b[39m\n\u001b[31m    \u001b[39m\u001b[31ma=\u001b[39m\n      ^\n\u001b[31mSyntaxError\u001b[39m\u001b[31m:\u001b[39m invalid syntax\n"
     ]
    }
   ],
   "source": [
    "a=\n",
    "print(type(a))\n",
    "print(type(float(a)))\n",
    "print(type(str(a)))"
   ]
  },
  {
   "cell_type": "code",
   "execution_count": 5,
   "id": "310c4c71",
   "metadata": {},
   "outputs": [
    {
     "name": "stdout",
     "output_type": "stream",
     "text": [
      "teenager\n"
     ]
    }
   ],
   "source": [
    "a=int(input())\n",
    "if a<13:\n",
    "    print(\"Child\")\n",
    "elif a>13 & a<19:\n",
    "    print(\"teenager\")\n",
    "else:\n",
    "    print(\"adult\")"
   ]
  },
  {
   "cell_type": "code",
   "execution_count": null,
   "id": "16460bcd",
   "metadata": {},
   "outputs": [],
   "source": [
    "a=int(input())\n",
    "if a>30:\n",
    "    print(\">30\")\n",
    "elif a>40:\n",
    "    print(\">40\")\n",
    "elif a>50:\n",
    "    print(\">50\")\n",
    "elif a>60:\n",
    "    print(\">60\")\n",
    "elif(a>70):\n",
    "    print(\">70\")\n",
    "elif(a>80):\n",
    "    print(\">80\")\n",
    "else:\n",
    "    print(\">90\")"
   ]
  },
  {
   "cell_type": "code",
   "execution_count": 13,
   "id": "ae1deb2e",
   "metadata": {},
   "outputs": [
    {
     "name": "stdout",
     "output_type": "stream",
     "text": [
      "*\n",
      "**\n",
      "***\n",
      "****\n",
      "*****\n"
     ]
    }
   ],
   "source": [
    "for i in range(1,6):\n",
    "\n",
    "    print(\"*\"*i)\n",
    "    #i+=1"
   ]
  },
  {
   "cell_type": "code",
   "execution_count": 25,
   "id": "b04279a2",
   "metadata": {},
   "outputs": [
    {
     "name": "stdout",
     "output_type": "stream",
     "text": [
      "       \n",
      "      *\n",
      "     **\n",
      "    ***\n",
      "   ****\n",
      "  *****\n"
     ]
    }
   ],
   "source": [
    "n=int(input())\n",
    "for i in range(n):\n",
    "    k=n-i\n",
    "    print(k*\" \",i*\"*\")"
   ]
  },
  {
   "cell_type": "code",
   "execution_count": 37,
   "id": "17568c4d",
   "metadata": {},
   "outputs": [
    {
     "name": "stdout",
     "output_type": "stream",
     "text": [
      "1,\n",
      "1,2,\n",
      "1,2,3,\n",
      "1,2,3,4,\n",
      "1,2,3,4,5,\n"
     ]
    }
   ],
   "source": [
    "for i in range(1,6):\n",
    "    for j in range(1,i+1):\n",
    "        print(j,end=\",\")\n",
    "    print()"
   ]
  },
  {
   "cell_type": "code",
   "execution_count": 45,
   "id": "f6b2a7bb",
   "metadata": {},
   "outputs": [
    {
     "name": "stdout",
     "output_type": "stream",
     "text": [
      "🎮 Welcome to the Number Guessing Game!\n",
      "I'm thinking of a number between 1 and 100.\n",
      "❌ Please enter a valid number.\n",
      "❌ Please enter a valid number.\n",
      "❌ Please enter a valid number.\n",
      "❌ Please enter a valid number.\n",
      "❌ Please enter a valid number.\n",
      "🔼 Too high. Try again.\n",
      "❌ Please enter a valid number.\n",
      "🔼 Too high. Try again.\n",
      "🔼 Too high. Try again.\n",
      "🔽 Too low. Try again.\n",
      "🔽 Too low. Try again.\n",
      "🔽 Too low. Try again.\n",
      "✅ Congratulations! You guessed the number 18 correctly!\n"
     ]
    }
   ],
   "source": [
    "import random\n",
    "\n",
    "# Generate a random number between 1 and 100\n",
    "secret_number = random.randint(1, 100)\n",
    "\n",
    "print(\"🎮 Welcome to the Number Guessing Game!\")\n",
    "print(\"I'm thinking of a number between 1 and 100.\")\n",
    "\n",
    "# Loop until the user guesses correctly\n",
    "while True:\n",
    "    guess = input(\"Enter your guess: \")\n",
    "    \n",
    "    # Check if the input is a valid number\n",
    "    if not guess.isdigit():\n",
    "        print(\"❌ Please enter a valid number.\")\n",
    "        continue\n",
    "\n",
    "    guess = int(guess)\n",
    "\n",
    "    if guess < secret_number:\n",
    "        print(\"🔽 Too low. Try again.\")\n",
    "    elif guess > secret_number:\n",
    "        print(\"🔼 Too high. Try again.\")\n",
    "    else:\n",
    "        print(f\"✅ Congratulations! You guessed the number {secret_number} correctly!\")\n",
    "        break\n",
    "        p"
   ]
  },
  {
   "cell_type": "code",
   "execution_count": null,
   "id": "d9e811da",
   "metadata": {},
   "outputs": [],
   "source": []
  }
 ],
 "metadata": {
  "kernelspec": {
   "display_name": ".venv",
   "language": "python",
   "name": "python3"
  },
  "language_info": {
   "codemirror_mode": {
    "name": "ipython",
    "version": 3
   },
   "file_extension": ".py",
   "mimetype": "text/x-python",
   "name": "python",
   "nbconvert_exporter": "python",
   "pygments_lexer": "ipython3",
   "version": "3.11.9"
  }
 },
 "nbformat": 4,
 "nbformat_minor": 5
}
