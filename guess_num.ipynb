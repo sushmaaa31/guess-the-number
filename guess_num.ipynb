{
 "cells": [
  {
   "cell_type": "code",
   "execution_count": 2,
   "id": "1a9babdd",
   "metadata": {},
   "outputs": [
    {
     "name": "stdout",
     "output_type": "stream",
     "text": [
      "🎮 Welcome to the Number Guessing Game!\n",
      "I'm thinking of a number between 1 and 100.\n",
      "🔼 Too high. Try again.\n",
      "🔽 Too low. Try again.\n",
      "🔽 Too low. Try again.\n",
      "🔽 Too low. Try again.\n",
      "🔽 Too low. Try again.\n",
      "✅ Congratulations! You guessed the number 18 correctly!\n"
     ]
    }
   ],
   "source": [
    "import random\n",
    "\n",
    "# Generate a random number between 1 and 100\n",
    "secret_number = random.randint(1, 100)\n",
    "\n",
    "print(\"🎮 Welcome to the Number Guessing Game!\")\n",
    "print(\"I'm thinking of a number between 1 and 100.\")\n",
    "\n",
    "# Loop until the user guesses correctly\n",
    "while True:\n",
    "    guess = input(\"Enter your guess: \")\n",
    "    \n",
    "    # Check if the input is a valid number\n",
    "    if not guess.isdigit():\n",
    "        print(\"❌ Please enter a valid number.\")\n",
    "        continue\n",
    "\n",
    "    guess = int(guess)\n",
    "\n",
    "    if guess < secret_number:\n",
    "        print(\"🔽 Too low. Try again.\")\n",
    "    elif guess > secret_number:\n",
    "        print(\"🔼 Too high. Try again.\")\n",
    "    else:\n",
    "        print(f\"✅ Congratulations! You guessed the number {secret_number} correctly!\")\n",
    "        break\n",
    "        "
   ]
  },
  {
   "cell_type": "code",
   "execution_count": null,
   "id": "2659b825",
   "metadata": {},
   "outputs": [],
   "source": []
  }
 ],
 "metadata": {
  "kernelspec": {
   "display_name": ".venv",
   "language": "python",
   "name": "python3"
  },
  "language_info": {
   "codemirror_mode": {
    "name": "ipython",
    "version": 3
   },
   "file_extension": ".py",
   "mimetype": "text/x-python",
   "name": "python",
   "nbconvert_exporter": "python",
   "pygments_lexer": "ipython3",
   "version": "3.11.9"
  }
 },
 "nbformat": 4,
 "nbformat_minor": 5
}
